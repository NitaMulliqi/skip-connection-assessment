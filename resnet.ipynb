{
  "nbformat": 4,
  "nbformat_minor": 0,
  "metadata": {
    "kernelspec": {
      "display_name": "Python 3",
      "language": "python",
      "name": "python3"
    },
    "language_info": {
      "codemirror_mode": {
        "name": "ipython",
        "version": 3
      },
      "file_extension": ".py",
      "mimetype": "text/x-python",
      "name": "python",
      "nbconvert_exporter": "python",
      "pygments_lexer": "ipython3",
      "version": "3.7.3"
    },
    "colab": {
      "name": "resnet.ipynb",
      "provenance": []
    }
  },
  "cells": [
    {
      "cell_type": "code",
      "metadata": {
        "id": "WhB9zcm0U_ck",
        "colab_type": "code",
        "colab": {}
      },
      "source": [
        "from torchvision.models.resnet import ResNet\n",
        "from torchvision.models.resnet import BasicBlock\n",
        "from torchvision.models.resnet import Bottleneck\n",
        "from pretrainedmodels.models.torchvision_models import pretrained_settings\n",
        "\n",
        "\n",
        "class ResNetEncoder(ResNet):\n",
        "\n",
        "    def __init__(self, *args, **kwargs):\n",
        "        super().__init__(*args, **kwargs)\n",
        "        self.pretrained = False\n",
        "        del self.fc\n",
        "\n",
        "    def forward(self, x):\n",
        "        x0 = self.conv1(x)\n",
        "        x0 = self.bn1(x0)\n",
        "        x0 = self.relu(x0)\n",
        "\n",
        "        x1 = self.maxpool(x0)\n",
        "        x1 = self.layer1(x1)\n",
        "\n",
        "        x2 = self.layer2(x1)\n",
        "        x3 = self.layer3(x2)\n",
        "        x4 = self.layer4(x3)\n",
        "\n",
        "        return [x4, x3, x2, x1, x0]\n",
        "\n",
        "    def load_state_dict(self, state_dict, **kwargs):\n",
        "        state_dict.pop('fc.bias')\n",
        "        state_dict.pop('fc.weight')\n",
        "        super().load_state_dict(state_dict, **kwargs)\n",
        "\n",
        "\n",
        "resnet_encoders = {\n",
        "    'resnet18': {\n",
        "        'encoder': ResNetEncoder,\n",
        "        'pretrained_settings': pretrained_settings['resnet18'],\n",
        "        'out_shapes': (512, 256, 128, 64, 64),\n",
        "        'params': {\n",
        "            'block': BasicBlock,\n",
        "            'layers': [2, 2, 2, 2],\n",
        "        },\n",
        "    },\n",
        "\n",
        "    'resnet34': {\n",
        "        'encoder': ResNetEncoder,\n",
        "        'pretrained_settings': pretrained_settings['resnet34'],\n",
        "        'out_shapes': (512, 256, 128, 64, 64),\n",
        "        'params': {\n",
        "            'block': BasicBlock,\n",
        "            'layers': [3, 4, 6, 3],\n",
        "        },\n",
        "    },\n",
        "\n",
        "    'resnet50': {\n",
        "        'encoder': ResNetEncoder,\n",
        "        'pretrained_settings': pretrained_settings['resnet50'],\n",
        "        'out_shapes': (2048, 1024, 512, 256, 64),\n",
        "        'params': {\n",
        "            'block': Bottleneck,\n",
        "            'layers': [3, 4, 6, 3],\n",
        "        },\n",
        "    },\n",
        "\n",
        "    'resnet101': {\n",
        "        'encoder': ResNetEncoder,\n",
        "        'pretrained_settings': pretrained_settings['resnet101'],\n",
        "        'out_shapes': (2048, 1024, 512, 256, 64),\n",
        "        'params': {\n",
        "            'block': Bottleneck,\n",
        "            'layers': [3, 4, 23, 3],\n",
        "        },\n",
        "    },\n",
        "\n",
        "    'resnet152': {\n",
        "        'encoder': ResNetEncoder,\n",
        "        'pretrained_settings': pretrained_settings['resnet152'],\n",
        "        'out_shapes': (2048, 1024, 512, 256, 64),\n",
        "        'params': {\n",
        "            'block': Bottleneck,\n",
        "            'layers': [3, 8, 36, 3],\n",
        "        },\n",
        "    },\n",
        "}"
      ],
      "execution_count": 0,
      "outputs": []
    },
    {
      "cell_type": "code",
      "metadata": {
        "id": "dtyWi01OU_cq",
        "colab_type": "code",
        "colab": {}
      },
      "source": [
        ""
      ],
      "execution_count": 0,
      "outputs": []
    }
  ]
}